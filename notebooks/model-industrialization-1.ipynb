{
 "cells": [
  {
   "cell_type": "code",
   "execution_count": 58,
   "id": "5945deac",
   "metadata": {},
   "outputs": [],
   "source": [
    "import pandas as pd\n",
    "import numpy as np\n",
    "import seaborn as sns\n",
    "import matplotlib.pyplot as plt\n",
    "from sklearn.model_selection import train_test_split\n",
    "from sklearn.preprocessing import OneHotEncoder, StandardScaler, OrdinalEncoder\n",
    "from sklearn.linear_model import LinearRegression\n",
    "from sklearn.metrics import mean_squared_log_error\n",
    "from sklearn.pipeline import Pipeline"
   ]
  },
  {
   "cell_type": "code",
   "execution_count": 59,
   "id": "43a5a724",
   "metadata": {
    "scrolled": true
   },
   "outputs": [],
   "source": [
    "%matplotlib inline"
   ]
  },
  {
   "cell_type": "code",
   "execution_count": 60,
   "id": "aa2e75ab",
   "metadata": {
    "scrolled": true
   },
   "outputs": [],
   "source": [
    "HouseDF = pd.read_csv(r\"C:\\Users\\Ranjitha Arun\\Desktop\\DSP-GIT\\dsp-ranjitha-vadivel\\data\\train.csv\") ## now importing california house pricing dataset\n",
    "HouseDF = HouseDF[['LotArea', 'Street', 'LotShape', 'GarageArea', 'GarageQual', 'MSZoning', 'KitchenQual', 'SalePrice']]"
   ]
  },
  {
   "cell_type": "code",
   "execution_count": 61,
   "id": "94e604f1",
   "metadata": {},
   "outputs": [
    {
     "name": "stdout",
     "output_type": "stream",
     "text": [
      "<class 'pandas.core.frame.DataFrame'>\n",
      "RangeIndex: 1460 entries, 0 to 1459\n",
      "Data columns (total 8 columns):\n",
      " #   Column       Non-Null Count  Dtype \n",
      "---  ------       --------------  ----- \n",
      " 0   LotArea      1460 non-null   int64 \n",
      " 1   Street       1460 non-null   object\n",
      " 2   LotShape     1460 non-null   object\n",
      " 3   GarageArea   1460 non-null   int64 \n",
      " 4   GarageQual   1379 non-null   object\n",
      " 5   MSZoning     1460 non-null   object\n",
      " 6   KitchenQual  1460 non-null   object\n",
      " 7   SalePrice    1460 non-null   int64 \n",
      "dtypes: int64(3), object(5)\n",
      "memory usage: 91.4+ KB\n"
     ]
    }
   ],
   "source": [
    "HouseDF.info()"
   ]
  },
  {
   "cell_type": "code",
   "execution_count": 62,
   "id": "9d51b833",
   "metadata": {},
   "outputs": [
    {
     "data": {
      "text/html": [
       "<div>\n",
       "<style scoped>\n",
       "    .dataframe tbody tr th:only-of-type {\n",
       "        vertical-align: middle;\n",
       "    }\n",
       "\n",
       "    .dataframe tbody tr th {\n",
       "        vertical-align: top;\n",
       "    }\n",
       "\n",
       "    .dataframe thead th {\n",
       "        text-align: right;\n",
       "    }\n",
       "</style>\n",
       "<table border=\"1\" class=\"dataframe\">\n",
       "  <thead>\n",
       "    <tr style=\"text-align: right;\">\n",
       "      <th></th>\n",
       "      <th>LotArea</th>\n",
       "      <th>Street</th>\n",
       "      <th>LotShape</th>\n",
       "      <th>GarageArea</th>\n",
       "      <th>GarageQual</th>\n",
       "      <th>MSZoning</th>\n",
       "      <th>KitchenQual</th>\n",
       "      <th>SalePrice</th>\n",
       "    </tr>\n",
       "  </thead>\n",
       "  <tbody>\n",
       "    <tr>\n",
       "      <th>0</th>\n",
       "      <td>8450</td>\n",
       "      <td>Pave</td>\n",
       "      <td>Reg</td>\n",
       "      <td>548</td>\n",
       "      <td>TA</td>\n",
       "      <td>RL</td>\n",
       "      <td>Gd</td>\n",
       "      <td>208500</td>\n",
       "    </tr>\n",
       "    <tr>\n",
       "      <th>1</th>\n",
       "      <td>9600</td>\n",
       "      <td>Pave</td>\n",
       "      <td>Reg</td>\n",
       "      <td>460</td>\n",
       "      <td>TA</td>\n",
       "      <td>RL</td>\n",
       "      <td>TA</td>\n",
       "      <td>181500</td>\n",
       "    </tr>\n",
       "    <tr>\n",
       "      <th>2</th>\n",
       "      <td>11250</td>\n",
       "      <td>Pave</td>\n",
       "      <td>IR1</td>\n",
       "      <td>608</td>\n",
       "      <td>TA</td>\n",
       "      <td>RL</td>\n",
       "      <td>Gd</td>\n",
       "      <td>223500</td>\n",
       "    </tr>\n",
       "    <tr>\n",
       "      <th>3</th>\n",
       "      <td>9550</td>\n",
       "      <td>Pave</td>\n",
       "      <td>IR1</td>\n",
       "      <td>642</td>\n",
       "      <td>TA</td>\n",
       "      <td>RL</td>\n",
       "      <td>Gd</td>\n",
       "      <td>140000</td>\n",
       "    </tr>\n",
       "    <tr>\n",
       "      <th>4</th>\n",
       "      <td>14260</td>\n",
       "      <td>Pave</td>\n",
       "      <td>IR1</td>\n",
       "      <td>836</td>\n",
       "      <td>TA</td>\n",
       "      <td>RL</td>\n",
       "      <td>Gd</td>\n",
       "      <td>250000</td>\n",
       "    </tr>\n",
       "  </tbody>\n",
       "</table>\n",
       "</div>"
      ],
      "text/plain": [
       "   LotArea Street LotShape  GarageArea GarageQual MSZoning KitchenQual  \\\n",
       "0     8450   Pave      Reg         548         TA       RL          Gd   \n",
       "1     9600   Pave      Reg         460         TA       RL          TA   \n",
       "2    11250   Pave      IR1         608         TA       RL          Gd   \n",
       "3     9550   Pave      IR1         642         TA       RL          Gd   \n",
       "4    14260   Pave      IR1         836         TA       RL          Gd   \n",
       "\n",
       "   SalePrice  \n",
       "0     208500  \n",
       "1     181500  \n",
       "2     223500  \n",
       "3     140000  \n",
       "4     250000  "
      ]
     },
     "execution_count": 62,
     "metadata": {},
     "output_type": "execute_result"
    }
   ],
   "source": [
    "HouseDF.head() "
   ]
  },
  {
   "cell_type": "code",
   "execution_count": 63,
   "id": "e1b2663e",
   "metadata": {},
   "outputs": [
    {
     "data": {
      "text/plain": [
       "LotArea         0\n",
       "Street          0\n",
       "LotShape        0\n",
       "GarageArea      0\n",
       "GarageQual     81\n",
       "MSZoning        0\n",
       "KitchenQual     0\n",
       "SalePrice       0\n",
       "dtype: int64"
      ]
     },
     "execution_count": 63,
     "metadata": {},
     "output_type": "execute_result"
    }
   ],
   "source": [
    "HouseDF.isnull().sum()"
   ]
  },
  {
   "cell_type": "code",
   "execution_count": 64,
   "id": "528d2654",
   "metadata": {},
   "outputs": [],
   "source": [
    "HouseDF.dropna(axis=0, inplace=True)"
   ]
  },
  {
   "cell_type": "code",
   "execution_count": 65,
   "id": "febf332a",
   "metadata": {},
   "outputs": [],
   "source": [
    "def compute_rmsle(y_test: np.ndarray, y_pred: np.ndarray, precision: int = 2) -> float:\n",
    "    rmsle = np.sqrt(mean_squared_log_error(y_test, y_pred))\n",
    "    return round(rmsle, precision)"
   ]
  },
  {
   "cell_type": "code",
   "execution_count": 66,
   "id": "bf9c29ce",
   "metadata": {},
   "outputs": [],
   "source": [
    "# Split the data into input features and target variable\n",
    "y = HouseDF[\"SalePrice\"]\n",
    "X = HouseDF.drop([\"SalePrice\"], axis=1)\n",
    "\n",
    "# Split the data into training and testing sets\n",
    "X_train,X_test,y_train,y_test = train_test_split(X, y, test_size=0.2, random_state=22)\n"
   ]
  },
  {
   "cell_type": "code",
   "execution_count": 67,
   "id": "a6babea3",
   "metadata": {
    "scrolled": true
   },
   "outputs": [
    {
     "name": "stdout",
     "output_type": "stream",
     "text": [
      "RMSLE: 0.25\n"
     ]
    }
   ],
   "source": [
    "# Separate the continuous and categorical features\n",
    "continuous_features = ['LotArea', 'GarageArea']\n",
    "categorical_features = ['LotShape', 'KitchenQual']\n",
    "\n",
    "# Preprocess and engineer features in the train set\n",
    "scaler = StandardScaler()\n",
    "encoder = OrdinalEncoder()\n",
    "X_train_continuous = pd.DataFrame(scaler.fit_transform(X_train[continuous_features]), columns=continuous_features)\n",
    "X_train_categorical = encoder.fit_transform(X_train[categorical_features])\n",
    "X_train_continuous_df = pd.DataFrame(X_train_continuous, columns=continuous_features)\n",
    "X_train_categorical_df = pd.DataFrame(X_train_categorical, columns=categorical_features)\n",
    "X_train = pd.concat([X_train_continuous_df, X_train_categorical_df], axis=1)\n",
    "\n",
    "# Train a linear regression model\n",
    "model = LinearRegression()\n",
    "model.fit(X_train, np.log(y_train))\n",
    "\n",
    "# Preprocess and engineer features in the test set\n",
    "X_test_continuous = pd.DataFrame(scaler.transform(X_test[continuous_features]), columns=continuous_features)\n",
    "X_test_categorical = encoder.transform(X_test[categorical_features])\n",
    "X_test_continuous_df = pd.DataFrame(X_test_continuous, columns=continuous_features)\n",
    "X_test_categorical_df = pd.DataFrame(X_test_categorical, columns=categorical_features)\n",
    "X_test = pd.concat([X_test_continuous_df, X_test_categorical_df], axis=1)\n",
    "\n",
    "# Make predictions on the testing data\n",
    "predictions = np.exp(model.predict(X_test))\n",
    "\n",
    "# Evaluate the model using RMSLE\n",
    "def compute_rmsle(y_test: np.ndarray, y_pred: np.ndarray, precision: int = 2) -> float:\n",
    "    rmsle = np.sqrt(mean_squared_log_error(y_test, y_pred))\n",
    "    return round(rmsle, precision)\n",
    "\n",
    "rmsle = compute_rmsle(y_test, predictions)\n",
    "print('RMSLE:', rmsle)"
   ]
  },
  {
   "cell_type": "code",
   "execution_count": 87,
   "id": "76b1ae70",
   "metadata": {},
   "outputs": [
    {
     "name": "stdout",
     "output_type": "stream",
     "text": [
      "      LotArea Street LotShape  GarageArea GarageQual MSZoning KitchenQual\n",
      "0       11622   Pave      Reg       730.0         TA       RH          TA\n",
      "1       14267   Pave      IR1       312.0         TA       RL          Gd\n",
      "2       13830   Pave      IR1       482.0         TA       RL          TA\n",
      "3        9978   Pave      IR1       470.0         TA       RL          Gd\n",
      "4        5005   Pave      IR1       506.0         TA       RL          Gd\n",
      "...       ...    ...      ...         ...        ...      ...         ...\n",
      "1454     1936   Pave      Reg         0.0        NaN       RM          TA\n",
      "1455     1894   Pave      Reg       286.0         TA       RM          TA\n",
      "1456    20000   Pave      Reg       576.0         TA       RL          TA\n",
      "1457    10441   Pave      Reg         0.0        NaN       RL          TA\n",
      "1458     9627   Pave      Reg       650.0         TA       RL          TA\n",
      "\n",
      "[1459 rows x 7 columns]\n"
     ]
    }
   ],
   "source": [
    "testDF = pd.read_csv(r\"C:\\Users\\Ranjitha Arun\\Desktop\\DSP-GIT\\dsp-ranjitha-vadivel\\data\\test.csv\")\n",
    "ID = testDF[\"Id\"]\n",
    "testDF = testDF[['LotArea', 'Street', 'LotShape', 'GarageArea', 'GarageQual', 'MSZoning', 'KitchenQual', ]]\n",
    "print(testDF)\n"
   ]
  },
  {
   "cell_type": "code",
   "execution_count": 88,
   "id": "d936b882",
   "metadata": {},
   "outputs": [
    {
     "data": {
      "text/plain": [
       "LotArea         0\n",
       "Street          0\n",
       "LotShape        0\n",
       "GarageArea      1\n",
       "GarageQual     78\n",
       "MSZoning        4\n",
       "KitchenQual     1\n",
       "dtype: int64"
      ]
     },
     "execution_count": 88,
     "metadata": {},
     "output_type": "execute_result"
    }
   ],
   "source": [
    "testDF.isnull().sum()"
   ]
  },
  {
   "cell_type": "code",
   "execution_count": 89,
   "id": "5b2d89b1",
   "metadata": {},
   "outputs": [
    {
     "name": "stdout",
     "output_type": "stream",
     "text": [
      "      LotArea Street LotShape  GarageArea GarageQual MSZoning KitchenQual\n",
      "0       11622   Pave      Reg       730.0         TA       RH          TA\n",
      "1       14267   Pave      IR1       312.0         TA       RL          Gd\n",
      "2       13830   Pave      IR1       482.0         TA       RL          TA\n",
      "3        9978   Pave      IR1       470.0         TA       RL          Gd\n",
      "4        5005   Pave      IR1       506.0         TA       RL          Gd\n",
      "...       ...    ...      ...         ...        ...      ...         ...\n",
      "1451    13384   Pave      Reg       336.0         TA       RL          TA\n",
      "1452     1533   Pave      Reg       286.0         TA       RM          TA\n",
      "1455     1894   Pave      Reg       286.0         TA       RM          TA\n",
      "1456    20000   Pave      Reg       576.0         TA       RL          TA\n",
      "1458     9627   Pave      Reg       650.0         TA       RL          TA\n",
      "\n",
      "[1376 rows x 7 columns]\n"
     ]
    }
   ],
   "source": [
    "testDF = testDF.dropna()\n",
    "print(testDF)\n",
    "\n"
   ]
  },
  {
   "cell_type": "code",
   "execution_count": 90,
   "id": "e6fdf4e7",
   "metadata": {},
   "outputs": [],
   "source": [
    "# Scale continuous features\n",
    "X_test_continuous = pd.DataFrame(scaler.transform(testDF[continuous_features]), columns=continuous_features)\n",
    "\n"
   ]
  },
  {
   "cell_type": "code",
   "execution_count": 91,
   "id": "24aadeec",
   "metadata": {},
   "outputs": [],
   "source": [
    "# Encode categorical features, ignore unknown categories\n",
    "\n",
    "X_test_categorical = encoder.transform(testDF[categorical_features])\n",
    "X_test_categorical_df = pd.DataFrame(X_test_categorical, columns=categorical_features)\n",
    "\n"
   ]
  },
  {
   "cell_type": "code",
   "execution_count": 92,
   "id": "9e8d7c89",
   "metadata": {},
   "outputs": [],
   "source": [
    "# Concatenate continuous and categorical features\n",
    "X_test = pd.concat([X_test_continuous, X_test_categorical_df], axis=1)\n",
    "\n"
   ]
  },
  {
   "cell_type": "code",
   "execution_count": 93,
   "id": "7ba2246f",
   "metadata": {},
   "outputs": [],
   "source": [
    "\n",
    "\n",
    "X_test_imputed = X_test.dropna()\n",
    "# Make predictions on the test data\n",
    "predictions = np.exp(model.predict(X_test_imputed))\n",
    "testDF[\"SalePrice\"] = predictions\n",
    "\n"
   ]
  },
  {
   "cell_type": "code",
   "execution_count": 94,
   "id": "0f42781c",
   "metadata": {},
   "outputs": [],
   "source": [
    "testDF[\"Id\"] = ID"
   ]
  },
  {
   "cell_type": "code",
   "execution_count": 96,
   "id": "feccd5e1",
   "metadata": {},
   "outputs": [],
   "source": [
    "# Save predictions to a file\n",
    "testDF[[\"Id\", \"SalePrice\"]].to_csv(\"submission.csv\", index=False)\n"
   ]
  },
  {
   "cell_type": "code",
   "execution_count": 98,
   "id": "9d573b61",
   "metadata": {},
   "outputs": [
    {
     "data": {
      "text/plain": [
       "['../models/model.joblib']"
      ]
     },
     "execution_count": 98,
     "metadata": {},
     "output_type": "execute_result"
    }
   ],
   "source": [
    "# Import joblib\n",
    "import joblib\n",
    "\n",
    "# Save the trained model\n",
    "joblib.dump(model, '../models/model.joblib')\n",
    "\n"
   ]
  },
  {
   "cell_type": "code",
   "execution_count": 103,
   "id": "79892370",
   "metadata": {},
   "outputs": [
    {
     "name": "stdout",
     "output_type": "stream",
     "text": [
      "[177127.97941396 174208.51972878 166562.91206332 ... 162385.63421202\n",
      "  94789.58116099 163796.68519459]\n"
     ]
    }
   ],
   "source": [
    "# Load the trained model from the saved file\n",
    "model = joblib.load('../models/model.joblib')\n",
    "\n",
    "# Model inference\n",
    "testDF = pd.read_csv(r\"C:\\Users\\Ranjitha Arun\\Desktop\\DSP-GIT\\dsp-ranjitha-vadivel\\data\\test.csv\")\n",
    "X_test_continuous = pd.DataFrame(scaler.transform(testDF[continuous_features]), columns=continuous_features)\n",
    "\n",
    "# Encode categorical features, ignore unknown categories\n",
    "X_test_categorical = encoder.transform(testDF[categorical_features])\n",
    "X_test_categorical_df = pd.DataFrame(X_test_categorical, columns=categorical_features)\n",
    "# Concatenate continuous and categorical features\n",
    "X_test = pd.concat([X_test_continuous, X_test_categorical_df], axis=1)\n",
    "\n",
    "\n",
    "X_test_imputed = X_test.dropna()\n",
    "# Make predictions on the test data\n",
    "predictions = np.exp(model.predict(X_test_imputed))\n",
    "print(predictions)\n"
   ]
  },
  {
   "cell_type": "code",
   "execution_count": null,
   "id": "1e4db4c1",
   "metadata": {
    "scrolled": true
   },
   "outputs": [],
   "source": []
  },
  {
   "cell_type": "code",
   "execution_count": null,
   "id": "f77d6378",
   "metadata": {},
   "outputs": [],
   "source": []
  },
  {
   "cell_type": "code",
   "execution_count": null,
   "id": "99126fa3",
   "metadata": {},
   "outputs": [],
   "source": []
  }
 ],
 "metadata": {
  "kernelspec": {
   "display_name": "Python 3 (ipykernel)",
   "language": "python",
   "name": "python3"
  },
  "language_info": {
   "codemirror_mode": {
    "name": "ipython",
    "version": 3
   },
   "file_extension": ".py",
   "mimetype": "text/x-python",
   "name": "python",
   "nbconvert_exporter": "python",
   "pygments_lexer": "ipython3",
   "version": "3.10.10"
  }
 },
 "nbformat": 4,
 "nbformat_minor": 5
}
