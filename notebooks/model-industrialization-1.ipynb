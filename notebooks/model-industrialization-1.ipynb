{
 "cells": [
  {
   "cell_type": "code",
   "execution_count": 2,
   "id": "5945deac",
   "metadata": {},
   "outputs": [],
   "source": [
    "import pandas as pd\n",
    "import numpy as np\n",
    "import seaborn as sns\n",
    "import matplotlib.pyplot as plt\n",
    "from sklearn.model_selection import train_test_split\n",
    "from sklearn.preprocessing import OneHotEncoder, StandardScaler, OrdinalEncoder\n",
    "from sklearn.linear_model import LinearRegression\n",
    "from sklearn.metrics import mean_squared_log_error\n",
    "from sklearn.pipeline import Pipeline\n",
    "import joblib"
   ]
  },
  {
   "cell_type": "code",
   "execution_count": 4,
   "id": "43a5a724",
   "metadata": {
    "scrolled": true
   },
   "outputs": [],
   "source": [
    "%matplotlib inline"
   ]
  },
  {
   "cell_type": "code",
   "execution_count": 33,
   "id": "aa2e75ab",
   "metadata": {
    "scrolled": true
   },
   "outputs": [],
   "source": [
    "HouseDF = pd.read_csv(r\"C:\\Users\\Ranjitha Arun\\Desktop\\DSP-GIT\\dsp-ranjitha-vadivel\\data\\train.csv\") ## now importing california house pricing dataset\n",
    "HouseDF = HouseDF[['LotArea', 'Street', 'LotShape', 'GarageArea', 'GarageQual', 'MSZoning', 'KitchenQual', 'SalePrice']]"
   ]
  },
  {
   "cell_type": "markdown",
   "id": "be9692a9",
   "metadata": {},
   "source": [
    "# model Training"
   ]
  },
  {
   "cell_type": "code",
   "execution_count": 34,
   "id": "9b7f94fe",
   "metadata": {},
   "outputs": [],
   "source": [
    "from sklearn.model_selection import train_test_split\n",
    "\n",
    "# Separate the target variable from the features\n",
    "X = HouseDF.drop('SalePrice', axis=1)\n",
    "y = HouseDF['SalePrice']\n",
    "\n",
    "# Split into training and test sets with a 70/30 split\n",
    "X_train, X_test, y_train, y_test = train_test_split(X, y, test_size=0.3, random_state=42)\n"
   ]
  },
  {
   "cell_type": "code",
   "execution_count": 37,
   "id": "0a85bcd9",
   "metadata": {},
   "outputs": [],
   "source": [
    "# Define the continuous and categorical features\n",
    "continuous_features = ['LotArea', 'GarageArea']\n",
    "categorical_features = ['Street', 'LotShape', 'GarageQual', 'MSZoning', 'KitchenQual']\n",
    "\n",
    "# Scale the continuous features\n",
    "scaler = StandardScaler()\n",
    "joblib.dump(scaler,'../models/scalar.joblib')\n",
    "HouseDF_scaled = scaler.fit_transform(X_train[continuous_features])\n",
    "HouseDF_scaled = pd.DataFrame(HouseDF_scaled, columns=continuous_features)\n",
    "\n",
    "# Encode the categorical features using one-hot encoding\n",
    "encoder = OneHotEncoder(handle_unknown='ignore')\n",
    "joblib.dump(encoder,'../models/encoder.joblib')\n",
    "HouseDF_encoded = encoder.fit_transform(X_train[categorical_features])\n",
    "HouseDF_encoded = pd.DataFrame(HouseDF_encoded.toarray(), columns=encoder.get_feature_names_out(categorical_features))\n",
    "HouseDF_encoded=HouseDF_encoded.drop('GarageQual_Ex',axis=1)\n",
    "HouseDF_encoded=HouseDF_encoded.drop('GarageQual_nan',axis=1)"
   ]
  },
  {
   "cell_type": "code",
   "execution_count": 8,
   "id": "19f3414a",
   "metadata": {},
   "outputs": [
    {
     "data": {
      "text/plain": [
       "['../models/model.joblib']"
      ]
     },
     "execution_count": 8,
     "metadata": {},
     "output_type": "execute_result"
    }
   ],
   "source": [
    "# Concatenate the continuous and categorical features\n",
    "X_train= pd.concat([HouseDF_scaled, HouseDF_encoded], axis=1)\n",
    "\n",
    "# Train a linear regression model\n",
    "model = LinearRegression()\n",
    "model.fit(X_train,y_train)\n",
    "\n",
    "#save \n",
    "\n",
    "joblib.dump(model, '../models/model.joblib')"
   ]
  },
  {
   "cell_type": "markdown",
   "id": "c3d78e73",
   "metadata": {},
   "source": [
    "# model Testing"
   ]
  },
  {
   "cell_type": "code",
   "execution_count": 9,
   "id": "922db4e3",
   "metadata": {},
   "outputs": [],
   "source": [
    "# Define the continuous and categorical features for test data\n",
    "continuous_features_test = ['LotArea', 'GarageArea']\n",
    "categorical_features_test = ['Street', 'LotShape', 'GarageQual', 'MSZoning', 'KitchenQual']\n",
    "\n",
    "# Scale the continuous features for test data\n",
    "scaler_test = StandardScaler()\n",
    "HouseDF_scaled_test = scaler_test.fit_transform(X_test[continuous_features_test])\n",
    "HouseDF_scaled_test = pd.DataFrame(HouseDF_scaled_test, columns=continuous_features_test)\n",
    "\n",
    "# Encode the categorical features using one-hot encoding for test data\n",
    "encoder_test = OneHotEncoder(handle_unknown='ignore')\n",
    "HouseDF_encoded_test = encoder_test.fit_transform(X_test[categorical_features_test])\n",
    "HouseDF_encoded_test = pd.DataFrame(HouseDF_encoded_test.toarray(), columns=encoder_test.get_feature_names_out(categorical_features_test))\n",
    "HouseDF_encoded_test = HouseDF_encoded_test.drop('GarageQual_nan',axis=1)\n",
    "# Concatenate the continuous and categorical features\n",
    "X_test = pd.concat([HouseDF_scaled_test, HouseDF_encoded_test], axis=1)"
   ]
  },
  {
   "cell_type": "code",
   "execution_count": 10,
   "id": "ffedb3e1",
   "metadata": {},
   "outputs": [],
   "source": [
    "# Make predictions on the testing data\n",
    "\n",
    "predictions = model.predict(X_test)"
   ]
  },
  {
   "cell_type": "code",
   "execution_count": 11,
   "id": "4698798d",
   "metadata": {},
   "outputs": [
    {
     "name": "stdout",
     "output_type": "stream",
     "text": [
      "RMSLE: 0.25\n"
     ]
    }
   ],
   "source": [
    "# Evaluate the model using RMSLE\n",
    "def compute_rmsle(y_test: np.ndarray, y_pred: np.ndarray, precision: int = 2) -> float:\n",
    "    rmsle = np.sqrt(mean_squared_log_error(y_test, y_pred))\n",
    "    return round(rmsle, precision)\n",
    "\n",
    "rmsle = compute_rmsle(y_test, predictions)\n",
    "print('RMSLE:', rmsle)"
   ]
  },
  {
   "cell_type": "markdown",
   "id": "ced1b75f",
   "metadata": {},
   "source": [
    "# Model inference"
   ]
  },
  {
   "cell_type": "code",
   "execution_count": 12,
   "id": "23c069e3",
   "metadata": {},
   "outputs": [
    {
     "name": "stdout",
     "output_type": "stream",
     "text": [
      "      LotArea Street LotShape  GarageArea GarageQual MSZoning KitchenQual\n",
      "0       11622   Pave      Reg       730.0         TA       RH          TA\n",
      "1       14267   Pave      IR1       312.0         TA       RL          Gd\n",
      "2       13830   Pave      IR1       482.0         TA       RL          TA\n",
      "3        9978   Pave      IR1       470.0         TA       RL          Gd\n",
      "4        5005   Pave      IR1       506.0         TA       RL          Gd\n",
      "...       ...    ...      ...         ...        ...      ...         ...\n",
      "1454     1936   Pave      Reg         0.0        NaN       RM          TA\n",
      "1455     1894   Pave      Reg       286.0         TA       RM          TA\n",
      "1456    20000   Pave      Reg       576.0         TA       RL          TA\n",
      "1457    10441   Pave      Reg         0.0        NaN       RL          TA\n",
      "1458     9627   Pave      Reg       650.0         TA       RL          TA\n",
      "\n",
      "[1459 rows x 7 columns]\n"
     ]
    }
   ],
   "source": [
    "testDF = pd.read_csv(r\"C:\\Users\\Ranjitha Arun\\Desktop\\DSP-GIT\\dsp-ranjitha-vadivel\\data\\test.csv\")\n",
    "ID = testDF[\"Id\"]\n",
    "testDF = testDF[['LotArea', 'Street', 'LotShape', 'GarageArea', 'GarageQual', 'MSZoning', 'KitchenQual', ]]\n",
    "print(testDF)"
   ]
  },
  {
   "cell_type": "code",
   "execution_count": 13,
   "id": "71d4faa4",
   "metadata": {},
   "outputs": [
    {
     "data": {
      "text/plain": [
       "LotArea         0\n",
       "Street          0\n",
       "LotShape        0\n",
       "GarageArea      1\n",
       "GarageQual     78\n",
       "MSZoning        4\n",
       "KitchenQual     1\n",
       "dtype: int64"
      ]
     },
     "execution_count": 13,
     "metadata": {},
     "output_type": "execute_result"
    }
   ],
   "source": [
    "testDF.isnull().sum()"
   ]
  },
  {
   "cell_type": "code",
   "execution_count": 14,
   "id": "b6e1861b",
   "metadata": {},
   "outputs": [
    {
     "name": "stdout",
     "output_type": "stream",
     "text": [
      "      LotArea Street LotShape  GarageArea GarageQual MSZoning KitchenQual\n",
      "0       11622   Pave      Reg       730.0         TA       RH          TA\n",
      "1       14267   Pave      IR1       312.0         TA       RL          Gd\n",
      "2       13830   Pave      IR1       482.0         TA       RL          TA\n",
      "3        9978   Pave      IR1       470.0         TA       RL          Gd\n",
      "4        5005   Pave      IR1       506.0         TA       RL          Gd\n",
      "...       ...    ...      ...         ...        ...      ...         ...\n",
      "1451    13384   Pave      Reg       336.0         TA       RL          TA\n",
      "1452     1533   Pave      Reg       286.0         TA       RM          TA\n",
      "1455     1894   Pave      Reg       286.0         TA       RM          TA\n",
      "1456    20000   Pave      Reg       576.0         TA       RL          TA\n",
      "1458     9627   Pave      Reg       650.0         TA       RL          TA\n",
      "\n",
      "[1376 rows x 7 columns]\n"
     ]
    },
    {
     "data": {
      "text/plain": [
       "LotArea        0\n",
       "Street         0\n",
       "LotShape       0\n",
       "GarageArea     0\n",
       "GarageQual     0\n",
       "MSZoning       0\n",
       "KitchenQual    0\n",
       "dtype: int64"
      ]
     },
     "execution_count": 14,
     "metadata": {},
     "output_type": "execute_result"
    }
   ],
   "source": [
    "testDF = testDF.dropna()\n",
    "print(testDF)\n",
    "testDF.isnull().sum()\n",
    "\n"
   ]
  },
  {
   "cell_type": "code",
   "execution_count": 15,
   "id": "01aa40c0",
   "metadata": {},
   "outputs": [
    {
     "name": "stdout",
     "output_type": "stream",
     "text": [
      "<class 'pandas.core.frame.DataFrame'>\n",
      "RangeIndex: 1376 entries, 0 to 1375\n",
      "Data columns (total 21 columns):\n",
      " #   Column            Non-Null Count  Dtype  \n",
      "---  ------            --------------  -----  \n",
      " 0   LotArea           1376 non-null   float64\n",
      " 1   GarageArea        1376 non-null   float64\n",
      " 2   Street_Grvl       1376 non-null   float64\n",
      " 3   Street_Pave       1376 non-null   float64\n",
      " 4   LotShape_IR1      1376 non-null   float64\n",
      " 5   LotShape_IR2      1376 non-null   float64\n",
      " 6   LotShape_IR3      1376 non-null   float64\n",
      " 7   LotShape_Reg      1376 non-null   float64\n",
      " 8   GarageQual_Fa     1376 non-null   float64\n",
      " 9   GarageQual_Gd     1376 non-null   float64\n",
      " 10  GarageQual_Po     1376 non-null   float64\n",
      " 11  GarageQual_TA     1376 non-null   float64\n",
      " 12  MSZoning_C (all)  1376 non-null   float64\n",
      " 13  MSZoning_FV       1376 non-null   float64\n",
      " 14  MSZoning_RH       1376 non-null   float64\n",
      " 15  MSZoning_RL       1376 non-null   float64\n",
      " 16  MSZoning_RM       1376 non-null   float64\n",
      " 17  KitchenQual_Ex    1376 non-null   float64\n",
      " 18  KitchenQual_Fa    1376 non-null   float64\n",
      " 19  KitchenQual_Gd    1376 non-null   float64\n",
      " 20  KitchenQual_TA    1376 non-null   float64\n",
      "dtypes: float64(21)\n",
      "memory usage: 225.9 KB\n",
      "None\n"
     ]
    }
   ],
   "source": [
    "# Define the continuous and categorical features for test data\n",
    "continuous_features_inf = ['LotArea', 'GarageArea']\n",
    "categorical_features_inf = ['Street', 'LotShape', 'GarageQual', 'MSZoning', 'KitchenQual']\n",
    "\n",
    "# Scale the continuous features for test data\n",
    "scaler_inf = StandardScaler()\n",
    "HouseDF_scaled_inf = scaler_inf.fit_transform(testDF[continuous_features_inf])\n",
    "HouseDF_scaled_inf = pd.DataFrame(HouseDF_scaled_inf, columns=continuous_features_inf)\n",
    "\n",
    "# Encode the categorical features using one-hot encoding for test data\n",
    "encoder_inf = OneHotEncoder(handle_unknown='ignore')\n",
    "HouseDF_encoded_inf = encoder_inf.fit_transform(testDF[categorical_features_inf])\n",
    "HouseDF_encoded_inf = pd.DataFrame(HouseDF_encoded_inf.toarray(), columns=encoder_inf.get_feature_names_out(categorical_features_inf))\n",
    "# Concatenate the continuous and categorical features\n",
    "testDF_final = pd.concat([HouseDF_scaled_inf, HouseDF_encoded_inf], axis=1)\n",
    "print(testDF_final.info() )\n",
    "#testDF_final=testDF_final.drop('GarageQual_nan',axis=1)\n",
    "\n"
   ]
  },
  {
   "cell_type": "code",
   "execution_count": 31,
   "id": "9d51b833",
   "metadata": {},
   "outputs": [
    {
     "data": {
      "text/plain": [
       "array([175010.33234523, 192464.41495404, 172169.99389943, ...,\n",
       "        80245.9253969 , 189902.2835034 , 174412.20017726])"
      ]
     },
     "execution_count": 31,
     "metadata": {},
     "output_type": "execute_result"
    }
   ],
   "source": [
    "model_saved = joblib.load('../models/model.joblib')\n",
    "predictions = model_saved.predict(testDF_final)\n",
    "predictions"
   ]
  },
  {
   "cell_type": "code",
   "execution_count": 105,
   "id": "f77d6378",
   "metadata": {},
   "outputs": [],
   "source": [
    "\n",
    "\n",
    "def prepare_data(df: pd.DataFrame) -> pd.DataFrame:\n",
    "    # Separate the target variable from the features\n",
    "    X = df.drop('SalePrice', axis=1)\n",
    "    y = df['SalePrice']\n",
    "\n",
    "    # Define the continuous and categorical features\n",
    "    continuous_features = ['LotArea', 'GarageArea']\n",
    "    categorical_features = ['Street', 'LotShape', 'GarageQual', 'MSZoning', 'KitchenQual']\n",
    "\n",
    "    # Scale the continuous features\n",
    "    scaler = StandardScaler()\n",
    "    scaled_X = scaler.fit_transform(X[continuous_features])\n",
    "    scaled_X = pd.DataFrame(scaled_X, columns=continuous_features)\n",
    "\n",
    "    # Encode the categorical features using one-hot encoding\n",
    "    encoder = OneHotEncoder(handle_unknown='ignore')\n",
    "    encoded_X = encoder.fit_transform(X[categorical_features])\n",
    "    encoded_X = pd.DataFrame(encoded_X.toarray(), columns=encoder.get_feature_names_out(categorical_features))\n",
    "    encoded_X = encoded_X.drop('GarageQual_Ex', axis=1)\n",
    "    encoded_X = encoded_X.drop('GarageQual_nan', axis=1)\n",
    "\n",
    "    # Concatenate the continuous and categorical features\n",
    "    X = pd.concat([scaled_X, encoded_X], axis=1)\n",
    "    \n",
    "    return X, y\n",
    "\n",
    "def build_model(data: pd.DataFrame, model_file_path: str) -> dict[str, str]:\n",
    "    # Prepare data\n",
    "    X, y = prepare_data(data)\n",
    "\n",
    "    # Split into training and test sets with a 70/30 split\n",
    "    X_train, X_test, y_train, y_test = train_test_split(X, y, test_size=0.3, random_state=42)\n",
    "\n",
    "    # Train a linear regression model\n",
    "    model = LinearRegression()\n",
    "    model.fit(X_train, y_train)\n",
    "    joblib.dump(model, '../models/model.joblib')\n",
    "    \n",
    "\n",
    "    # Evaluate the model\n",
    "    rmse = calculate_rmse(model, X_test, y_test)\n",
    "\n",
    "    # Save the model\n",
    "    joblib.dump(model, model_file_path)\n",
    "\n",
    "    # Return performance metrics\n",
    "    return {'rmse': rmse}\n",
    "\n",
    "def calculate_rmse(model: LinearRegression, X: pd.DataFrame, y: pd.Series) -> float:\n",
    "    y_pred = model.predict(X)\n",
    "    mse = ((y_pred - y) ** 2).mean()\n",
    "    rmse = mse ** 0.5\n",
    "    return rmse\n",
    "\n",
    "def make_predictions(input_data: pd.DataFrame, model_file_path: str) -> pd.Series:\n",
    "    \n",
    "    \n",
    "    # Load the model and all the data preparation objects (scaler, encoder, etc)\n",
    "    model = joblib.load('../models/model.joblib')\n",
    "    X, y = prepare_data(input_data)\n",
    "\n",
    "    # Make predictions\n",
    "    predictions = model.predict(X)\n",
    "\n",
    "    return pd.Series(predictions)\n"
   ]
  },
  {
   "cell_type": "code",
   "execution_count": null,
   "id": "99126fa3",
   "metadata": {},
   "outputs": [],
   "source": []
  }
 ],
 "metadata": {
  "kernelspec": {
   "display_name": "Python 3 (ipykernel)",
   "language": "python",
   "name": "python3"
  },
  "language_info": {
   "codemirror_mode": {
    "name": "ipython",
    "version": 3
   },
   "file_extension": ".py",
   "mimetype": "text/x-python",
   "name": "python",
   "nbconvert_exporter": "python",
   "pygments_lexer": "ipython3",
   "version": "3.10.10"
  }
 },
 "nbformat": 4,
 "nbformat_minor": 5
}
