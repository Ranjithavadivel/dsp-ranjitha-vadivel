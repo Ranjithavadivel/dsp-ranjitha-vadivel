{
 "cells": [
  {
   "cell_type": "code",
   "execution_count": 1,
   "id": "1ec440cf",
   "metadata": {},
   "outputs": [
    {
     "name": "stdout",
     "output_type": "stream",
     "text": [
      "[[ 1 13 68]\n",
      " [63 77 52]\n",
      " [50 74 86]\n",
      " [63  9  4]\n",
      " [ 0 21 17]\n",
      " [78 68 34]\n",
      " [95 77 53]\n",
      " [94 55 63]\n",
      " [87 72 88]\n",
      " [57 90 14]]\n"
     ]
    }
   ],
   "source": [
    "import numpy as np\n",
    "arr=np.random.randint(0,100,size=(10,3))\n",
    "print(arr)"
   ]
  },
  {
   "cell_type": "code",
   "execution_count": null,
   "id": "3b36d9c4",
   "metadata": {},
   "outputs": [],
   "source": []
  }
 ],
 "metadata": {
  "kernelspec": {
   "display_name": "Python 3 (ipykernel)",
   "language": "python",
   "name": "python3"
  },
  "language_info": {
   "codemirror_mode": {
    "name": "ipython",
    "version": 3
   },
   "file_extension": ".py",
   "mimetype": "text/x-python",
   "name": "python",
   "nbconvert_exporter": "python",
   "pygments_lexer": "ipython3",
   "version": "3.9.16"
  }
 },
 "nbformat": 4,
 "nbformat_minor": 5
}
