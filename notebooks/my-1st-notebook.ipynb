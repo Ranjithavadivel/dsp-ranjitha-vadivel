{
 "cells": [
  {
   "cell_type": "code",
   "execution_count": 1,
   "id": "afc72edb",
   "metadata": {},
   "outputs": [],
   "source": [
    "import numpy as np\n"
   ]
  },
  {
   "cell_type": "code",
   "execution_count": 2,
   "id": "deda943f",
   "metadata": {},
   "outputs": [
    {
     "name": "stdout",
     "output_type": "stream",
     "text": [
      "[[55 86 21]\n",
      " [88 96 52]\n",
      " [54 78 28]\n",
      " [99 75 86]\n",
      " [48 60  9]\n",
      " [19  7 73]\n",
      " [58 96 59]\n",
      " [29 44 49]\n",
      " [64 18 42]\n",
      " [16 82 73]]\n"
     ]
    }
   ],
   "source": [
    "nparray=np.random.randint(1,100,size=(10,3))\n",
    "print(nparray)"
   ]
  },
  {
   "cell_type": "code",
   "execution_count": null,
   "id": "8041c7ab",
   "metadata": {},
   "outputs": [],
   "source": []
  }
 ],
 "metadata": {
  "kernelspec": {
   "display_name": "Python 3 (ipykernel)",
   "language": "python",
   "name": "python3"
  },
  "language_info": {
   "codemirror_mode": {
    "name": "ipython",
    "version": 3
   },
   "file_extension": ".py",
   "mimetype": "text/x-python",
   "name": "python",
   "nbconvert_exporter": "python",
   "pygments_lexer": "ipython3",
   "version": "3.9.16"
  }
 },
 "nbformat": 4,
 "nbformat_minor": 5
}
